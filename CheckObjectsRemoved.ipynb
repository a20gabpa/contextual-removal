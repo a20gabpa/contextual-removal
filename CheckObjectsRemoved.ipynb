{
 "cells": [
  {
   "cell_type": "code",
   "execution_count": null,
   "id": "4f5894bb",
   "metadata": {},
   "outputs": [],
   "source": [
    "import SubSetClass as sub"
   ]
  },
  {
   "cell_type": "code",
   "execution_count": null,
   "id": "618be68d",
   "metadata": {},
   "outputs": [],
   "source": [
    "baseline = sub.Subset(pathtoannotation=\"./\")"
   ]
  },
  {
   "cell_type": "code",
   "execution_count": null,
   "id": "3f944de0",
   "metadata": {},
   "outputs": [],
   "source": [
    "baseline.amountOfImages"
   ]
  },
  {
   "cell_type": "code",
   "execution_count": null,
   "id": "663cfc57",
   "metadata": {},
   "outputs": [],
   "source": [
    "baseObj =  baseline.GiveInstancesInDataset(onlyobjects = True)"
   ]
  },
  {
   "cell_type": "code",
   "execution_count": null,
   "id": "e424c639",
   "metadata": {},
   "outputs": [],
   "source": [
    "euclidean = sub.Subset(pathtoannotation=\"./SubsetEuclidian/five/\")"
   ]
  },
  {
   "cell_type": "code",
   "execution_count": null,
   "id": "c65e0745",
   "metadata": {},
   "outputs": [],
   "source": [
    "eucObj = euclidean.GiveInstancesInDataset(onlyobjects = True)"
   ]
  },
  {
   "cell_type": "code",
   "execution_count": null,
   "id": "d5b6fb0e",
   "metadata": {},
   "outputs": [],
   "source": [
    "for key, value in baseObj.items():\n",
    "    print(f\"Number of instances of {key} in baseline = {value}, number in euclidean {eucObj[key]}.\")\n",
    "    print(f\"Percentage of {key} removed: {int(((eucObj[key]/value)*100)-100)}%\")"
   ]
  },
  {
   "cell_type": "code",
   "execution_count": null,
   "id": "103d4d65",
   "metadata": {},
   "outputs": [],
   "source": [
    "random = sub.Subset(pathtoannotation=\"./SubsetRandom/five/\")"
   ]
  },
  {
   "cell_type": "code",
   "execution_count": null,
   "id": "66db1289",
   "metadata": {},
   "outputs": [],
   "source": [
    "ranObj = random.GiveInstancesInDataset(onlyobjects = True)"
   ]
  },
  {
   "cell_type": "code",
   "execution_count": null,
   "id": "be6daa93",
   "metadata": {},
   "outputs": [],
   "source": [
    "for key, value in baseObj.items():\n",
    "    print(f\"Number of instances of {key} in baseline = {value}, number in random {ranObj[key]}.\")\n",
    "    print(f\"Percentage of {key} removed: {int(((ranObj[key]/value)*100)-100)}%\")"
   ]
  },
  {
   "cell_type": "code",
   "execution_count": null,
   "id": "3cdec94c",
   "metadata": {},
   "outputs": [],
   "source": []
  }
 ],
 "metadata": {
  "kernelspec": {
   "display_name": "Python 3 (ipykernel)",
   "language": "python",
   "name": "python3"
  },
  "language_info": {
   "codemirror_mode": {
    "name": "ipython",
    "version": 3
   },
   "file_extension": ".py",
   "mimetype": "text/x-python",
   "name": "python",
   "nbconvert_exporter": "python",
   "pygments_lexer": "ipython3",
   "version": "3.9.13"
  }
 },
 "nbformat": 4,
 "nbformat_minor": 5
}
